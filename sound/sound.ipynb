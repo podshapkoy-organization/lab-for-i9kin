{
 "cells": [
  {
   "metadata": {
    "ExecuteTime": {
     "end_time": "2024-12-10T18:31:54.939023Z",
     "start_time": "2024-12-10T18:31:53.089495Z"
    }
   },
   "cell_type": "code",
   "source": [
    "import pandas as pd\n",
    "import config\n",
    "\n",
    "train_labels = pd.read_csv(config.TARGET_FILE, sep='\\t', header=None, names=['file', 'gender'])"
   ],
   "id": "da7e7d88ce37442b",
   "outputs": [],
   "execution_count": 1
  },
  {
   "metadata": {
    "ExecuteTime": {
     "end_time": "2024-12-10T18:31:56.126254Z",
     "start_time": "2024-12-10T18:31:56.119360Z"
    }
   },
   "cell_type": "code",
   "source": [
    "import librosa\n",
    "import numpy as np\n",
    "\n",
    "def extract_features(file_path, n_mfcc=config.MFCC_N):\n",
    "    y, sr = librosa.load(file_path, sr=None)\n",
    "\n",
    "    mfcc = librosa.feature.mfcc(y=y, sr=sr, n_mfcc=n_mfcc)\n",
    "    mfcc_mean = np.mean(mfcc.T, axis=0)\n",
    "    mfcc_std = np.std(mfcc.T, axis=0)\n",
    "\n",
    "    return np.hstack([mfcc_mean, mfcc_std])"
   ],
   "id": "44292cf02818d2d7",
   "outputs": [],
   "execution_count": 2
  },
  {
   "metadata": {
    "ExecuteTime": {
     "end_time": "2024-12-10T18:31:57.312567Z",
     "start_time": "2024-12-10T18:31:57.308505Z"
    }
   },
   "cell_type": "code",
   "source": [
    "from torch.utils.data import Dataset\n",
    "import os\n",
    "import torch\n",
    "\n",
    "class AudioDataset(Dataset):\n",
    "    def __init__(self, folder, labels, transform=None):\n",
    "        self.folder = folder\n",
    "        self.labels = labels\n",
    "        self.transform = transform\n",
    "        self.files = [f.replace(\".wav\", \"\") for f in os.listdir(folder) if f.endswith(\".wav\")]\n",
    "\n",
    "    def __len__(self):\n",
    "        return len(self.files)\n",
    "\n",
    "    def __getitem__(self, idx):\n",
    "        file_name = self.files[idx]\n",
    "        file_path = os.path.join(self.folder, file_name + \".wav\")\n",
    "        features = extract_features(file_path)\n",
    "    \n",
    "        if self.transform:\n",
    "            features = self.transform(features)\n",
    "    \n",
    "        matching_labels = self.labels.loc[self.labels['file'] == file_name, 'gender']\n",
    "        \n",
    "        label = matching_labels.values[0]\n",
    "        return torch.tensor(features, dtype=torch.float32), torch.tensor(label, dtype=torch.long)"
   ],
   "id": "9aebd187705bf7ff",
   "outputs": [],
   "execution_count": 3
  },
  {
   "metadata": {
    "ExecuteTime": {
     "end_time": "2024-12-10T18:31:58.575789Z",
     "start_time": "2024-12-10T18:31:58.496344Z"
    }
   },
   "cell_type": "code",
   "source": [
    "train_dataset = AudioDataset(config.TRAIN_FOLDER, train_labels)\n",
    "test_dataset = AudioDataset(config.TEST_FOLDER, train_labels)"
   ],
   "id": "ecda269badbb059f",
   "outputs": [],
   "execution_count": 4
  },
  {
   "metadata": {
    "ExecuteTime": {
     "end_time": "2024-12-10T18:31:59.685895Z",
     "start_time": "2024-12-10T18:31:59.683055Z"
    }
   },
   "cell_type": "code",
   "source": [
    "from torch.utils.data import DataLoader\n",
    "\n",
    "train_loader = DataLoader(train_dataset, batch_size=config.BATCH_SIZE, shuffle=True)\n",
    "test_loader = DataLoader(test_dataset, batch_size=config.BATCH_SIZE, shuffle=False)"
   ],
   "id": "436a93e1ef7810ea",
   "outputs": [],
   "execution_count": 5
  },
  {
   "metadata": {
    "ExecuteTime": {
     "end_time": "2024-12-10T18:32:01.732599Z",
     "start_time": "2024-12-10T18:32:01.730247Z"
    }
   },
   "cell_type": "code",
   "source": [
    "input_size = config.MFCC_N * 2\n",
    "hidden_size = config.LSTM_HIDDEN_SIZE\n",
    "num_classes = config.NUM_CLASSES"
   ],
   "id": "a6249ee2d82a17e6",
   "outputs": [],
   "execution_count": 6
  },
  {
   "metadata": {
    "ExecuteTime": {
     "end_time": "2024-12-10T18:32:04.670087Z",
     "start_time": "2024-12-10T18:32:04.666678Z"
    }
   },
   "cell_type": "code",
   "source": [
    "import torch.nn as nn\n",
    "\n",
    "class LSTMModel(nn.Module):\n",
    "    def __init__(self, input_size, hidden_size, num_classes):\n",
    "        super(LSTMModel, self).__init__()\n",
    "        self.lstm = nn.LSTM(input_size, hidden_size, batch_first=True)\n",
    "        self.fc = nn.Linear(hidden_size, num_classes)\n",
    "\n",
    "    def forward(self, x):\n",
    "        x = x.unsqueeze(1)\n",
    "        x, (hn, cn) = self.lstm(x)\n",
    "        x = self.fc(hn[-1])\n",
    "        return x"
   ],
   "id": "792b821a8d4e861b",
   "outputs": [],
   "execution_count": 7
  },
  {
   "metadata": {
    "ExecuteTime": {
     "end_time": "2024-12-10T18:32:06.296802Z",
     "start_time": "2024-12-10T18:32:06.284539Z"
    }
   },
   "cell_type": "code",
   "source": "model = LSTMModel(input_size, hidden_size, num_classes).to(config.DEVICE)",
   "id": "45d5cbba4928f161",
   "outputs": [],
   "execution_count": 8
  },
  {
   "metadata": {
    "ExecuteTime": {
     "end_time": "2024-12-10T18:32:08.511305Z",
     "start_time": "2024-12-10T18:32:07.768585Z"
    }
   },
   "cell_type": "code",
   "source": [
    "import torch.optim as optim\n",
    "\n",
    "optimizer = optim.Adam(model.parameters(), lr=config.LEARNING_RATE)\n",
    "criterion = nn.CrossEntropyLoss()"
   ],
   "id": "3b0c9cd07e98b1f2",
   "outputs": [],
   "execution_count": 9
  },
  {
   "metadata": {
    "ExecuteTime": {
     "end_time": "2024-12-10T18:32:10.568161Z",
     "start_time": "2024-12-10T18:32:10.504579Z"
    }
   },
   "cell_type": "code",
   "source": [
    "from tensorboardX import SummaryWriter\n",
    "\n",
    "writer = SummaryWriter(config.LOG_DIR)"
   ],
   "id": "82e9f92dff306b32",
   "outputs": [],
   "execution_count": 10
  },
  {
   "metadata": {
    "jupyter": {
     "is_executing": true
    },
    "ExecuteTime": {
     "start_time": "2024-12-10T18:32:16.462302Z"
    }
   },
   "cell_type": "code",
   "source": [
    "for epoch in range(config.EPOCHS):\n",
    "    model.train()\n",
    "    running_loss = 0.0\n",
    "    correct = 0\n",
    "    total = 0\n",
    "\n",
    "    for inputs, labels in train_loader:\n",
    "        inputs, labels = inputs.to(config.DEVICE), labels.to(config.DEVICE)\n",
    "\n",
    "        optimizer.zero_grad()\n",
    "        outputs = model(inputs)\n",
    "\n",
    "        loss = criterion(outputs, labels)\n",
    "        loss.backward()\n",
    "        optimizer.step()\n",
    "\n",
    "        running_loss += loss.item()\n",
    "\n",
    "        _, predicted = torch.max(outputs.data, 1)\n",
    "        total += labels.size(0)\n",
    "        correct += (predicted == labels).sum().item()\n",
    "\n",
    "    writer.add_scalar('Loss/train', running_loss / len(train_loader), epoch)\n",
    "    writer.add_scalar('Accuracy/train', correct / total, epoch)\n",
    "\n",
    "    print(\n",
    "        f\"Epoch [{epoch + 1}/{config.EPOCHS}], Loss: {running_loss / len(train_loader):.4f}, Accuracy: {correct / total:.4f}\")"
   ],
   "id": "92862dfc710e0c16",
   "outputs": [],
   "execution_count": null
  },
  {
   "metadata": {
    "ExecuteTime": {
     "end_time": "2024-12-08T23:31:00.679162Z",
     "start_time": "2024-12-08T23:31:00.678783Z"
    }
   },
   "cell_type": "code",
   "source": [
    "embeddings = []\n",
    "labels = []\n",
    "\n",
    "model.eval()\n",
    "with torch.no_grad():\n",
    "    for inputs, target_labels in train_loader:\n",
    "        inputs = inputs.to(config.DEVICE)\n",
    "        outputs = model(inputs)\n",
    "        embeddings.append(outputs.cpu().numpy())\n",
    "        labels.append(target_labels.numpy())\n",
    "\n",
    "embeddings = np.vstack(embeddings)\n",
    "labels = np.hstack(labels)"
   ],
   "id": "6273f775d57804d1",
   "outputs": [],
   "execution_count": null
  },
  {
   "metadata": {
    "ExecuteTime": {
     "end_time": "2024-12-08T23:31:00.679883Z",
     "start_time": "2024-12-08T23:31:00.679803Z"
    }
   },
   "cell_type": "code",
   "source": [
    "from sklearn.manifold import TSNE\n",
    "import matplotlib.pyplot as plt\n",
    "\n",
    "tsne = TSNE(n_components=2, random_state=42)\n",
    "embeddings_2d = tsne.fit_transform(embeddings)\n",
    "\n",
    "plt.figure(figsize=(10, 8))\n",
    "scatter = plt.scatter(embeddings_2d[:, 0], embeddings_2d[:, 1], c=labels, cmap='viridis', alpha=0.7)\n",
    "plt.colorbar(scatter, label='Целевая переменная')\n",
    "plt.title(\"t-SNE проекция эмбеддингов\")\n",
    "plt.xlabel(\"t-SNE Dimension 1\")\n",
    "plt.ylabel(\"t-SNE Dimension 2\")\n",
    "plt.show()"
   ],
   "id": "95ecdf348810faf9",
   "outputs": [],
   "execution_count": null
  },
  {
   "metadata": {
    "ExecuteTime": {
     "end_time": "2024-12-08T23:31:00.680828Z",
     "start_time": "2024-12-08T23:31:00.680763Z"
    }
   },
   "cell_type": "code",
   "source": [
    "import umap\n",
    "\n",
    "reducer = umap.UMAP(n_neighbors=15, min_dist=0.1, n_components=2)\n",
    "embeddings_2d = reducer.fit_transform(embeddings)\n",
    "\n",
    "plt.figure(figsize=(10, 8))\n",
    "scatter = plt.scatter(embeddings_2d[:, 0], embeddings_2d[:, 1], c=labels, cmap='viridis', alpha=0.7)\n",
    "plt.colorbar(scatter, label='Целевая переменная')\n",
    "plt.title(\"UMAP проекция эмбеддингов\")\n",
    "plt.xlabel(\"UMAP Dimension 1\")\n",
    "plt.ylabel(\"UMAP Dimension 2\")\n",
    "plt.show()"
   ],
   "id": "733365153daa2dbb",
   "outputs": [],
   "execution_count": null
  },
  {
   "metadata": {
    "ExecuteTime": {
     "end_time": "2024-12-08T23:31:00.681856Z",
     "start_time": "2024-12-08T23:31:00.681743Z"
    }
   },
   "cell_type": "code",
   "source": "",
   "id": "c161cd96a082ebe9",
   "outputs": [],
   "execution_count": null
  }
 ],
 "metadata": {
  "kernelspec": {
   "display_name": "Python 3",
   "language": "python",
   "name": "python3"
  },
  "language_info": {
   "codemirror_mode": {
    "name": "ipython",
    "version": 2
   },
   "file_extension": ".py",
   "mimetype": "text/x-python",
   "name": "python",
   "nbconvert_exporter": "python",
   "pygments_lexer": "ipython2",
   "version": "2.7.6"
  }
 },
 "nbformat": 4,
 "nbformat_minor": 5
}
